{
  "nbformat": 4,
  "nbformat_minor": 0,
  "metadata": {
    "colab": {
      "name": "python basic.ipynb",
      "provenance": [],
      "authorship_tag": "ABX9TyPfbsQbg/s1zDPOtqNYiOwX",
      "include_colab_link": true
    },
    "kernelspec": {
      "name": "python3",
      "display_name": "Python 3"
    },
    "language_info": {
      "name": "python"
    }
  },
  "cells": [
    {
      "cell_type": "markdown",
      "metadata": {
        "id": "view-in-github",
        "colab_type": "text"
      },
      "source": [
        "<a href=\"https://colab.research.google.com/github/xxream/python-programming/blob/main/python_basic.ipynb\" target=\"_parent\"><img src=\"https://colab.research.google.com/assets/colab-badge.svg\" alt=\"Open In Colab\"/></a>"
      ]
    },
    {
      "cell_type": "markdown",
      "source": [
        "# First day :)"
      ],
      "metadata": {
        "id": "bPbe5IHfIbyb"
      }
    },
    {
      "cell_type": "code",
      "source": [
        "print(\"This is Sparta\")"
      ],
      "metadata": {
        "colab": {
          "base_uri": "https://localhost:8080/"
        },
        "id": "T_O8KBZ7IlOL",
        "outputId": "e85a9be1-7b39-4c87-80cb-bb403b2eae53"
      },
      "execution_count": 4,
      "outputs": [
        {
          "output_type": "stream",
          "name": "stdout",
          "text": [
            "This is Sparta\n"
          ]
        }
      ]
    },
    {
      "cell_type": "code",
      "source": [
        "def fun_area(r):\n",
        "    area=3.14*r*r\n",
        "    return area"
      ],
      "metadata": {
        "id": "RAAGP0v-IpzY"
      },
      "execution_count": 1,
      "outputs": []
    },
    {
      "cell_type": "code",
      "source": [
        "fun_area(13)"
      ],
      "metadata": {
        "colab": {
          "base_uri": "https://localhost:8080/"
        },
        "id": "ZjFIf4tXuqZ0",
        "outputId": "029caf7f-0e03-4b4f-e3fb-32d0f1c35208"
      },
      "execution_count": 2,
      "outputs": [
        {
          "output_type": "execute_result",
          "data": {
            "text/plain": [
              "530.66"
            ]
          },
          "metadata": {},
          "execution_count": 2
        }
      ]
    },
    {
      "cell_type": "code",
      "source": [
        ""
      ],
      "metadata": {
        "id": "g4HIEjkKtcTJ"
      },
      "execution_count": null,
      "outputs": []
    },
    {
      "cell_type": "markdown",
      "source": [
        "## Strings"
      ],
      "metadata": {
        "id": "ftPP4Fyet-u8"
      }
    },
    {
      "cell_type": "code",
      "source": [
        "phrase= \"This is sparta\""
      ],
      "metadata": {
        "id": "zEluZUfzuClp"
      },
      "execution_count": 5,
      "outputs": []
    },
    {
      "cell_type": "code",
      "source": [
        "print(phrase)"
      ],
      "metadata": {
        "colab": {
          "base_uri": "https://localhost:8080/"
        },
        "id": "O9ehfnUjuIIs",
        "outputId": "bac52fdd-a4de-471a-b539-965d68b7c362"
      },
      "execution_count": 6,
      "outputs": [
        {
          "output_type": "stream",
          "name": "stdout",
          "text": [
            "This is sparta\n"
          ]
        }
      ]
    },
    {
      "cell_type": "code",
      "source": [
        "print(phrase.lower())\n",
        "# TO MAKE LOWERCASE"
      ],
      "metadata": {
        "colab": {
          "base_uri": "https://localhost:8080/"
        },
        "id": "gSIC3moGuKwQ",
        "outputId": "1c05d5fb-279b-49bc-b653-cbd14b439482"
      },
      "execution_count": 7,
      "outputs": [
        {
          "output_type": "stream",
          "name": "stdout",
          "text": [
            "this is sparta\n"
          ]
        }
      ]
    },
    {
      "cell_type": "code",
      "source": [
        "print(phrase.upper())\n",
        "# TO MAKE UPPERCASE"
      ],
      "metadata": {
        "colab": {
          "base_uri": "https://localhost:8080/"
        },
        "id": "HXjl6jaquQcz",
        "outputId": "fe962c7a-5be3-4e3d-f093-56cce10e1d76"
      },
      "execution_count": 8,
      "outputs": [
        {
          "output_type": "stream",
          "name": "stdout",
          "text": [
            "THIS IS SPARTA\n"
          ]
        }
      ]
    },
    {
      "cell_type": "code",
      "source": [
        "print(phrase.islower())\n",
        "# TO CHECK LOWERCASE"
      ],
      "metadata": {
        "colab": {
          "base_uri": "https://localhost:8080/"
        },
        "id": "_Gjc-Qg-uXAA",
        "outputId": "fbcaa297-db6b-4c67-8240-9b3118b894b0"
      },
      "execution_count": 9,
      "outputs": [
        {
          "output_type": "stream",
          "name": "stdout",
          "text": [
            "False\n"
          ]
        }
      ]
    },
    {
      "cell_type": "code",
      "source": [
        "print(phrase.isupper())\n",
        "# TO CHECK UPPERRCASE"
      ],
      "metadata": {
        "colab": {
          "base_uri": "https://localhost:8080/"
        },
        "id": "yuW6yX00ua0m",
        "outputId": "82be6291-c77d-418c-e6d2-08abc9d1d3ed"
      },
      "execution_count": 10,
      "outputs": [
        {
          "output_type": "stream",
          "name": "stdout",
          "text": [
            "False\n"
          ]
        }
      ]
    },
    {
      "cell_type": "code",
      "source": [
        "print(len(phrase))\n",
        "# TO LENGTH OF THE STRING "
      ],
      "metadata": {
        "colab": {
          "base_uri": "https://localhost:8080/"
        },
        "id": "84Lc5E35udls",
        "outputId": "7480681e-ce24-4ac2-e6ee-7f2de1e0661b"
      },
      "execution_count": 11,
      "outputs": [
        {
          "output_type": "stream",
          "name": "stdout",
          "text": [
            "14\n"
          ]
        }
      ]
    },
    {
      "cell_type": "code",
      "source": [
        "print(phrase[0])\n",
        "# FOR FIRST CHARRACTER"
      ],
      "metadata": {
        "colab": {
          "base_uri": "https://localhost:8080/"
        },
        "id": "woRlV3ueu9P9",
        "outputId": "f42b8f6c-e437-4340-e236-b8c690a19b9b"
      },
      "execution_count": 12,
      "outputs": [
        {
          "output_type": "stream",
          "name": "stdout",
          "text": [
            "T\n"
          ]
        }
      ]
    },
    {
      "cell_type": "code",
      "source": [
        "x=len(phrase)\n",
        "print(phrase[x-1])\n",
        "# FOR LAST CHARRACTER"
      ],
      "metadata": {
        "colab": {
          "base_uri": "https://localhost:8080/"
        },
        "id": "zvbqXSDqvSXR",
        "outputId": "8ab8f414-bdfb-446c-a81c-e9c4919a9fd4"
      },
      "execution_count": 16,
      "outputs": [
        {
          "output_type": "stream",
          "name": "stdout",
          "text": [
            "a\n"
          ]
        }
      ]
    },
    {
      "cell_type": "markdown",
      "source": [
        "## INDEX FUNCTION IN STRING "
      ],
      "metadata": {
        "id": "h9LTDkuHwKgi"
      }
    },
    {
      "cell_type": "markdown",
      "source": [
        "This will tell us where a specific character or string is in main string"
      ],
      "metadata": {
        "id": "h-13AihrwUiI"
      }
    },
    {
      "cell_type": "code",
      "source": [
        "print(phrase.index(\"i\")) \n",
        "# FOR CHARACTER"
      ],
      "metadata": {
        "colab": {
          "base_uri": "https://localhost:8080/"
        },
        "id": "64JUayu2vo2k",
        "outputId": "11214744-2b52-4793-f299-1625abfb9619"
      },
      "execution_count": 18,
      "outputs": [
        {
          "output_type": "stream",
          "name": "stdout",
          "text": [
            "2\n"
          ]
        }
      ]
    },
    {
      "cell_type": "code",
      "source": [
        "print(phrase.index(\"sparta\")) \n",
        "# FOR STRING"
      ],
      "metadata": {
        "colab": {
          "base_uri": "https://localhost:8080/"
        },
        "id": "Xgg02e30wqLO",
        "outputId": "ab141b39-8211-4e91-c96f-35e6799249a9"
      },
      "execution_count": 19,
      "outputs": [
        {
          "output_type": "stream",
          "name": "stdout",
          "text": [
            "8\n"
          ]
        }
      ]
    },
    {
      "cell_type": "code",
      "source": [
        ""
      ],
      "metadata": {
        "id": "SsulEMSVw0L8"
      },
      "execution_count": null,
      "outputs": []
    },
    {
      "cell_type": "markdown",
      "source": [
        "## phrase.replace()"
      ],
      "metadata": {
        "id": "wQUR5ZHew67q"
      }
    },
    {
      "cell_type": "markdown",
      "source": [
        "for replacing the string or character"
      ],
      "metadata": {
        "id": "d4c3N5AvxEU-"
      }
    },
    {
      "cell_type": "code",
      "source": [
        "print(phrase.replace(\"sparta\", \"america\"))"
      ],
      "metadata": {
        "colab": {
          "base_uri": "https://localhost:8080/"
        },
        "id": "MI4m7CksxDLe",
        "outputId": "3eaf86e3-6251-43e9-f1ec-dc058d9304c4"
      },
      "execution_count": 23,
      "outputs": [
        {
          "output_type": "stream",
          "name": "stdout",
          "text": [
            "This is america\n"
          ]
        }
      ]
    },
    {
      "cell_type": "code",
      "source": [
        "print(phrase)"
      ],
      "metadata": {
        "colab": {
          "base_uri": "https://localhost:8080/"
        },
        "id": "kN2bkciaxfQb",
        "outputId": "dbb64b4f-5fab-4c74-c8ef-4da7cc025ef7"
      },
      "execution_count": 25,
      "outputs": [
        {
          "output_type": "stream",
          "name": "stdout",
          "text": [
            "This is sparta\n"
          ]
        }
      ]
    },
    {
      "cell_type": "markdown",
      "source": [
        "## WORKING WITH **NUMBERS**"
      ],
      "metadata": {
        "id": "0xhtMivtx20X"
      }
    },
    {
      "cell_type": "code",
      "source": [
        "print(2)"
      ],
      "metadata": {
        "colab": {
          "base_uri": "https://localhost:8080/"
        },
        "id": "v_UYNq7Kx6oy",
        "outputId": "7a827946-5c97-4a78-c649-da8fbee4bd21"
      },
      "execution_count": 1,
      "outputs": [
        {
          "output_type": "stream",
          "name": "stdout",
          "text": [
            "2\n"
          ]
        }
      ]
    },
    {
      "cell_type": "code",
      "source": [
        "print(2.096)"
      ],
      "metadata": {
        "colab": {
          "base_uri": "https://localhost:8080/"
        },
        "id": "9s3ZIb1QFoYR",
        "outputId": "f7dc493a-0f8f-41ae-b2bd-c162c0651bca"
      },
      "execution_count": 2,
      "outputs": [
        {
          "output_type": "stream",
          "name": "stdout",
          "text": [
            "2.096\n"
          ]
        }
      ]
    },
    {
      "cell_type": "code",
      "source": [
        "print(-2.6651)"
      ],
      "metadata": {
        "colab": {
          "base_uri": "https://localhost:8080/"
        },
        "id": "kbwPA045FqqB",
        "outputId": "95e36b50-08ba-4ae2-e916-fd55c2eaef9e"
      },
      "execution_count": 3,
      "outputs": [
        {
          "output_type": "stream",
          "name": "stdout",
          "text": [
            "-2.6651\n"
          ]
        }
      ]
    },
    {
      "cell_type": "markdown",
      "source": [
        "TO CONVERT NUMBER TO STRING"
      ],
      "metadata": {
        "id": "Ee3qumwOGUMP"
      }
    },
    {
      "cell_type": "code",
      "source": [
        "num=5\n",
        "print(num)\n",
        "print(str(num))\n",
        "x=str(num)\n",
        "print(type(num))        # type before\n",
        "print(type(x))          # type after"
      ],
      "metadata": {
        "colab": {
          "base_uri": "https://localhost:8080/"
        },
        "id": "Fa0-fqX7Ftlt",
        "outputId": "ba3f650b-553b-4f7e-a3da-e54e3dc33e88"
      },
      "execution_count": 6,
      "outputs": [
        {
          "output_type": "stream",
          "name": "stdout",
          "text": [
            "5\n",
            "5\n",
            "<class 'int'>\n",
            "<class 'str'>\n"
          ]
        }
      ]
    },
    {
      "cell_type": "markdown",
      "source": [
        "FUNCTIONS FOR NUMBERS "
      ],
      "metadata": {
        "id": "3_TR_6sLHMC7"
      }
    },
    {
      "cell_type": "markdown",
      "source": [
        "abs()    function"
      ],
      "metadata": {
        "id": "PV_1r94KHPr0"
      }
    },
    {
      "cell_type": "code",
      "source": [
        "num = -5\n",
        "print(abs(num))"
      ],
      "metadata": {
        "colab": {
          "base_uri": "https://localhost:8080/"
        },
        "id": "wf9rSbdGHS9J",
        "outputId": "53f99f12-d424-4af0-9545-fefcddbcfa71"
      },
      "execution_count": 7,
      "outputs": [
        {
          "output_type": "stream",
          "name": "stdout",
          "text": [
            "5\n"
          ]
        }
      ]
    },
    {
      "cell_type": "markdown",
      "source": [
        "pow() function "
      ],
      "metadata": {
        "id": "S-yGllV-HoX6"
      }
    },
    {
      "cell_type": "code",
      "source": [
        "print(pow(3,2))\n",
        "# will print 3^2"
      ],
      "metadata": {
        "colab": {
          "base_uri": "https://localhost:8080/"
        },
        "id": "WMX50QRAHdxo",
        "outputId": "3e4546b8-e823-4d36-d923-7162d48f26e1"
      },
      "execution_count": 9,
      "outputs": [
        {
          "output_type": "stream",
          "name": "stdout",
          "text": [
            "9\n"
          ]
        }
      ]
    },
    {
      "cell_type": "markdown",
      "source": [
        "max()   function \n",
        "\n",
        "will return the larger of the two numbers passed"
      ],
      "metadata": {
        "id": "zgImMDdrH-jU"
      }
    },
    {
      "cell_type": "code",
      "source": [
        "print(max(4,6))"
      ],
      "metadata": {
        "colab": {
          "base_uri": "https://localhost:8080/"
        },
        "id": "RU9_FEykHw5H",
        "outputId": "dc0cb7a5-fe50-4d90-d383-04aa2612e43b"
      },
      "execution_count": 10,
      "outputs": [
        {
          "output_type": "stream",
          "name": "stdout",
          "text": [
            "6\n"
          ]
        }
      ]
    },
    {
      "cell_type": "markdown",
      "source": [
        "min() function\n",
        "\n",
        "will return the smaller of the two numbers passed"
      ],
      "metadata": {
        "id": "mCO7jKg4INwd"
      }
    },
    {
      "cell_type": "code",
      "source": [
        "print(min(4,6))"
      ],
      "metadata": {
        "colab": {
          "base_uri": "https://localhost:8080/"
        },
        "id": "EjGJrttWIKnT",
        "outputId": "0cea483e-65d8-43f9-e37a-d69e9aa07414"
      },
      "execution_count": 11,
      "outputs": [
        {
          "output_type": "stream",
          "name": "stdout",
          "text": [
            "4\n"
          ]
        }
      ]
    },
    {
      "cell_type": "markdown",
      "source": [
        "round()   function \n",
        "\n",
        "will round the number"
      ],
      "metadata": {
        "id": "0TO3UOdxIb7h"
      }
    },
    {
      "cell_type": "code",
      "source": [
        "print(round(3.7))"
      ],
      "metadata": {
        "colab": {
          "base_uri": "https://localhost:8080/"
        },
        "id": "6pOIhkaQIVCP",
        "outputId": "f0a9f0ac-698a-4a91-885a-38d3d4b0eb27"
      },
      "execution_count": 12,
      "outputs": [
        {
          "output_type": "stream",
          "name": "stdout",
          "text": [
            "4\n"
          ]
        }
      ]
    },
    {
      "cell_type": "markdown",
      "source": [
        "## Import the math function "
      ],
      "metadata": {
        "id": "clwAAwvIItWz"
      }
    },
    {
      "cell_type": "code",
      "source": [
        "from math import *\n",
        "print(floor(3.7))\n",
        "# floor()  function will get the lowest number possible by \n",
        "# removing the decimal place\n",
        "\n",
        "print(ceil(3.7))\n",
        "\n",
        "# oppposit of floor will give highest number posiible near that range\n",
        "\n",
        "print(sqrt(36))\n",
        "# will give square root"
      ],
      "metadata": {
        "colab": {
          "base_uri": "https://localhost:8080/"
        },
        "id": "kWFE2cEkIkE-",
        "outputId": "9dc0a7d6-10ae-4cc4-a9d4-75ff07ffbcdb"
      },
      "execution_count": 17,
      "outputs": [
        {
          "output_type": "stream",
          "name": "stdout",
          "text": [
            "3\n",
            "4\n",
            "6.0\n"
          ]
        }
      ]
    },
    {
      "cell_type": "code",
      "source": [
        ""
      ],
      "metadata": {
        "id": "GeuA8xq7JA2V"
      },
      "execution_count": null,
      "outputs": []
    }
  ]
}