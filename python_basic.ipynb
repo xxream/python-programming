{
  "nbformat": 4,
  "nbformat_minor": 0,
  "metadata": {
    "colab": {
      "name": "python basic.ipynb",
      "provenance": [],
      "authorship_tag": "ABX9TyMehz9p+wtfWLz/+Fa0z29m",
      "include_colab_link": true
    },
    "kernelspec": {
      "name": "python3",
      "display_name": "Python 3"
    },
    "language_info": {
      "name": "python"
    }
  },
  "cells": [
    {
      "cell_type": "markdown",
      "metadata": {
        "id": "view-in-github",
        "colab_type": "text"
      },
      "source": [
        "<a href=\"https://colab.research.google.com/github/xxream/python-programming/blob/main/python_basic.ipynb\" target=\"_parent\"><img src=\"https://colab.research.google.com/assets/colab-badge.svg\" alt=\"Open In Colab\"/></a>"
      ]
    },
    {
      "cell_type": "markdown",
      "source": [
        "# First day :)"
      ],
      "metadata": {
        "id": "bPbe5IHfIbyb"
      }
    },
    {
      "cell_type": "code",
      "source": [
        "print(\"this is sparta\")"
      ],
      "metadata": {
        "colab": {
          "base_uri": "https://localhost:8080/"
        },
        "id": "T_O8KBZ7IlOL",
        "outputId": "15abb8c8-7c1e-46ca-934c-d3c0f10abffa"
      },
      "execution_count": null,
      "outputs": [
        {
          "output_type": "stream",
          "name": "stdout",
          "text": [
            "this is sparta\n"
          ]
        }
      ]
    },
    {
      "cell_type": "code",
      "source": [
        ""
      ],
      "metadata": {
        "id": "RAAGP0v-IpzY"
      },
      "execution_count": null,
      "outputs": []
    }
  ]
}