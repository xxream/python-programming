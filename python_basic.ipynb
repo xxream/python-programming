{
  "cells": [
    {
      "cell_type": "markdown",
      "metadata": {
        "id": "view-in-github",
        "colab_type": "text"
      },
      "source": [
        "<a href=\"https://colab.research.google.com/github/xxream/python-programming/blob/main/python_basic.ipynb\" target=\"_parent\"><img src=\"https://colab.research.google.com/assets/colab-badge.svg\" alt=\"Open In Colab\"/></a>"
      ]
    },
    {
      "cell_type": "markdown",
      "metadata": {
        "id": "bPbe5IHfIbyb"
      },
      "source": [
        "# First day :)"
      ]
    },
    {
      "cell_type": "code",
      "execution_count": null,
      "metadata": {
        "colab": {
          "base_uri": "https://localhost:8080/"
        },
        "id": "T_O8KBZ7IlOL",
        "outputId": "e85a9be1-7b39-4c87-80cb-bb403b2eae53"
      },
      "outputs": [
        {
          "name": "stdout",
          "output_type": "stream",
          "text": [
            "This is Sparta\n"
          ]
        }
      ],
      "source": [
        "print(\"This is Sparta\")"
      ]
    },
    {
      "cell_type": "code",
      "execution_count": null,
      "metadata": {
        "id": "RAAGP0v-IpzY"
      },
      "outputs": [],
      "source": [
        "def fun_area(r):\n",
        "    area=3.14*r*r\n",
        "    return area"
      ]
    },
    {
      "cell_type": "code",
      "execution_count": null,
      "metadata": {
        "colab": {
          "base_uri": "https://localhost:8080/"
        },
        "id": "ZjFIf4tXuqZ0",
        "outputId": "029caf7f-0e03-4b4f-e3fb-32d0f1c35208"
      },
      "outputs": [
        {
          "data": {
            "text/plain": [
              "530.66"
            ]
          },
          "execution_count": 2,
          "metadata": {},
          "output_type": "execute_result"
        }
      ],
      "source": [
        "fun_area(13)"
      ]
    },
    {
      "cell_type": "code",
      "execution_count": null,
      "metadata": {
        "id": "g4HIEjkKtcTJ"
      },
      "outputs": [],
      "source": [
        ""
      ]
    },
    {
      "cell_type": "markdown",
      "metadata": {
        "id": "ftPP4Fyet-u8"
      },
      "source": [
        "## Strings"
      ]
    },
    {
      "cell_type": "code",
      "execution_count": null,
      "metadata": {
        "id": "zEluZUfzuClp"
      },
      "outputs": [],
      "source": [
        "phrase= \"This is sparta\""
      ]
    },
    {
      "cell_type": "code",
      "execution_count": null,
      "metadata": {
        "colab": {
          "base_uri": "https://localhost:8080/"
        },
        "id": "O9ehfnUjuIIs",
        "outputId": "bac52fdd-a4de-471a-b539-965d68b7c362"
      },
      "outputs": [
        {
          "name": "stdout",
          "output_type": "stream",
          "text": [
            "This is sparta\n"
          ]
        }
      ],
      "source": [
        "print(phrase)"
      ]
    },
    {
      "cell_type": "code",
      "execution_count": null,
      "metadata": {
        "colab": {
          "base_uri": "https://localhost:8080/"
        },
        "id": "gSIC3moGuKwQ",
        "outputId": "1c05d5fb-279b-49bc-b653-cbd14b439482"
      },
      "outputs": [
        {
          "name": "stdout",
          "output_type": "stream",
          "text": [
            "this is sparta\n"
          ]
        }
      ],
      "source": [
        "print(phrase.lower())\n",
        "# TO MAKE LOWERCASE"
      ]
    },
    {
      "cell_type": "code",
      "execution_count": null,
      "metadata": {
        "colab": {
          "base_uri": "https://localhost:8080/"
        },
        "id": "HXjl6jaquQcz",
        "outputId": "fe962c7a-5be3-4e3d-f093-56cce10e1d76"
      },
      "outputs": [
        {
          "name": "stdout",
          "output_type": "stream",
          "text": [
            "THIS IS SPARTA\n"
          ]
        }
      ],
      "source": [
        "print(phrase.upper())\n",
        "# TO MAKE UPPERCASE"
      ]
    },
    {
      "cell_type": "code",
      "execution_count": null,
      "metadata": {
        "colab": {
          "base_uri": "https://localhost:8080/"
        },
        "id": "_Gjc-Qg-uXAA",
        "outputId": "fbcaa297-db6b-4c67-8240-9b3118b894b0"
      },
      "outputs": [
        {
          "name": "stdout",
          "output_type": "stream",
          "text": [
            "False\n"
          ]
        }
      ],
      "source": [
        "print(phrase.islower())\n",
        "# TO CHECK LOWERCASE"
      ]
    },
    {
      "cell_type": "code",
      "execution_count": null,
      "metadata": {
        "colab": {
          "base_uri": "https://localhost:8080/"
        },
        "id": "yuW6yX00ua0m",
        "outputId": "82be6291-c77d-418c-e6d2-08abc9d1d3ed"
      },
      "outputs": [
        {
          "name": "stdout",
          "output_type": "stream",
          "text": [
            "False\n"
          ]
        }
      ],
      "source": [
        "print(phrase.isupper())\n",
        "# TO CHECK UPPERRCASE"
      ]
    },
    {
      "cell_type": "code",
      "execution_count": null,
      "metadata": {
        "colab": {
          "base_uri": "https://localhost:8080/"
        },
        "id": "84Lc5E35udls",
        "outputId": "7480681e-ce24-4ac2-e6ee-7f2de1e0661b"
      },
      "outputs": [
        {
          "name": "stdout",
          "output_type": "stream",
          "text": [
            "14\n"
          ]
        }
      ],
      "source": [
        "print(len(phrase))\n",
        "# TO LENGTH OF THE STRING "
      ]
    },
    {
      "cell_type": "code",
      "execution_count": null,
      "metadata": {
        "colab": {
          "base_uri": "https://localhost:8080/"
        },
        "id": "woRlV3ueu9P9",
        "outputId": "f42b8f6c-e437-4340-e236-b8c690a19b9b"
      },
      "outputs": [
        {
          "name": "stdout",
          "output_type": "stream",
          "text": [
            "T\n"
          ]
        }
      ],
      "source": [
        "print(phrase[0])\n",
        "# FOR FIRST CHARRACTER"
      ]
    },
    {
      "cell_type": "code",
      "execution_count": null,
      "metadata": {
        "colab": {
          "base_uri": "https://localhost:8080/"
        },
        "id": "zvbqXSDqvSXR",
        "outputId": "8ab8f414-bdfb-446c-a81c-e9c4919a9fd4"
      },
      "outputs": [
        {
          "name": "stdout",
          "output_type": "stream",
          "text": [
            "a\n"
          ]
        }
      ],
      "source": [
        "x=len(phrase)\n",
        "print(phrase[x-1])\n",
        "# FOR LAST CHARRACTER"
      ]
    },
    {
      "cell_type": "markdown",
      "metadata": {
        "id": "h9LTDkuHwKgi"
      },
      "source": [
        "## INDEX FUNCTION IN STRING "
      ]
    },
    {
      "cell_type": "markdown",
      "metadata": {
        "id": "h-13AihrwUiI"
      },
      "source": [
        "This will tell us where a specific character or string is in main string"
      ]
    },
    {
      "cell_type": "code",
      "execution_count": null,
      "metadata": {
        "colab": {
          "base_uri": "https://localhost:8080/"
        },
        "id": "64JUayu2vo2k",
        "outputId": "11214744-2b52-4793-f299-1625abfb9619"
      },
      "outputs": [
        {
          "name": "stdout",
          "output_type": "stream",
          "text": [
            "2\n"
          ]
        }
      ],
      "source": [
        "print(phrase.index(\"i\")) \n",
        "# FOR CHARACTER"
      ]
    },
    {
      "cell_type": "code",
      "execution_count": null,
      "metadata": {
        "colab": {
          "base_uri": "https://localhost:8080/"
        },
        "id": "Xgg02e30wqLO",
        "outputId": "ab141b39-8211-4e91-c96f-35e6799249a9"
      },
      "outputs": [
        {
          "name": "stdout",
          "output_type": "stream",
          "text": [
            "8\n"
          ]
        }
      ],
      "source": [
        "print(phrase.index(\"sparta\")) \n",
        "# FOR STRING"
      ]
    },
    {
      "cell_type": "code",
      "execution_count": null,
      "metadata": {
        "id": "SsulEMSVw0L8"
      },
      "outputs": [],
      "source": [
        ""
      ]
    },
    {
      "cell_type": "markdown",
      "metadata": {
        "id": "wQUR5ZHew67q"
      },
      "source": [
        "## phrase.replace()"
      ]
    },
    {
      "cell_type": "markdown",
      "metadata": {
        "id": "d4c3N5AvxEU-"
      },
      "source": [
        "for replacing the string or character"
      ]
    },
    {
      "cell_type": "code",
      "execution_count": null,
      "metadata": {
        "colab": {
          "base_uri": "https://localhost:8080/"
        },
        "id": "MI4m7CksxDLe",
        "outputId": "3eaf86e3-6251-43e9-f1ec-dc058d9304c4"
      },
      "outputs": [
        {
          "name": "stdout",
          "output_type": "stream",
          "text": [
            "This is america\n"
          ]
        }
      ],
      "source": [
        "print(phrase.replace(\"sparta\", \"america\"))"
      ]
    },
    {
      "cell_type": "code",
      "execution_count": null,
      "metadata": {
        "colab": {
          "base_uri": "https://localhost:8080/"
        },
        "id": "kN2bkciaxfQb",
        "outputId": "dbb64b4f-5fab-4c74-c8ef-4da7cc025ef7"
      },
      "outputs": [
        {
          "name": "stdout",
          "output_type": "stream",
          "text": [
            "This is sparta\n"
          ]
        }
      ],
      "source": [
        "print(phrase)"
      ]
    },
    {
      "cell_type": "markdown",
      "metadata": {
        "id": "0xhtMivtx20X"
      },
      "source": [
        "## WORKING WITH **NUMBERS**"
      ]
    },
    {
      "cell_type": "code",
      "execution_count": 10,
      "metadata": {
        "colab": {
          "base_uri": "https://localhost:8080/"
        },
        "id": "v_UYNq7Kx6oy",
        "outputId": "0ca12df9-a17b-45bc-828d-2511af4888ea"
      },
      "outputs": [
        {
          "output_type": "stream",
          "name": "stdout",
          "text": [
            "2\n"
          ]
        }
      ],
      "source": [
        "print(2)"
      ]
    },
    {
      "cell_type": "code",
      "execution_count": 11,
      "metadata": {
        "colab": {
          "base_uri": "https://localhost:8080/"
        },
        "id": "9s3ZIb1QFoYR",
        "outputId": "96eac665-69df-4008-d539-750711fa4b71"
      },
      "outputs": [
        {
          "output_type": "stream",
          "name": "stdout",
          "text": [
            "2.096\n"
          ]
        }
      ],
      "source": [
        "print(2.096)"
      ]
    },
    {
      "cell_type": "code",
      "execution_count": 12,
      "metadata": {
        "colab": {
          "base_uri": "https://localhost:8080/"
        },
        "id": "kbwPA045FqqB",
        "outputId": "1060fd35-5d0f-46f3-a174-ea08e05a5f5a"
      },
      "outputs": [
        {
          "output_type": "stream",
          "name": "stdout",
          "text": [
            "-2.6651\n"
          ]
        }
      ],
      "source": [
        "print(-2.6651)"
      ]
    },
    {
      "cell_type": "markdown",
      "metadata": {
        "id": "Ee3qumwOGUMP"
      },
      "source": [
        "TO CONVERT NUMBER TO STRING"
      ]
    },
    {
      "cell_type": "code",
      "execution_count": 13,
      "metadata": {
        "colab": {
          "base_uri": "https://localhost:8080/"
        },
        "id": "Fa0-fqX7Ftlt",
        "outputId": "b7c88b03-a912-47a0-e7ec-86453e98207e"
      },
      "outputs": [
        {
          "output_type": "stream",
          "name": "stdout",
          "text": [
            "5\n",
            "5\n",
            "<class 'int'>\n",
            "<class 'str'>\n"
          ]
        }
      ],
      "source": [
        "num=5\n",
        "print(num)\n",
        "print(str(num))\n",
        "x=str(num)\n",
        "print(type(num))        # type before\n",
        "print(type(x))          # type after"
      ]
    },
    {
      "cell_type": "markdown",
      "metadata": {
        "id": "3_TR_6sLHMC7"
      },
      "source": [
        "FUNCTIONS FOR NUMBERS "
      ]
    },
    {
      "cell_type": "markdown",
      "metadata": {
        "id": "PV_1r94KHPr0"
      },
      "source": [
        "abs()    function"
      ]
    },
    {
      "cell_type": "code",
      "execution_count": 14,
      "metadata": {
        "colab": {
          "base_uri": "https://localhost:8080/"
        },
        "id": "wf9rSbdGHS9J",
        "outputId": "82a83d14-1a89-4cf6-8ea5-696012374c42"
      },
      "outputs": [
        {
          "output_type": "stream",
          "name": "stdout",
          "text": [
            "5\n"
          ]
        }
      ],
      "source": [
        "num = -5\n",
        "print(abs(num))"
      ]
    },
    {
      "cell_type": "markdown",
      "metadata": {
        "id": "S-yGllV-HoX6"
      },
      "source": [
        "pow() function "
      ]
    },
    {
      "cell_type": "code",
      "execution_count": 15,
      "metadata": {
        "colab": {
          "base_uri": "https://localhost:8080/"
        },
        "id": "WMX50QRAHdxo",
        "outputId": "a4700878-d574-4abe-9df9-1e2827a4bfdd"
      },
      "outputs": [
        {
          "output_type": "stream",
          "name": "stdout",
          "text": [
            "9\n"
          ]
        }
      ],
      "source": [
        "print(pow(3,2))\n",
        "# will print 3^2"
      ]
    },
    {
      "cell_type": "markdown",
      "metadata": {
        "id": "zgImMDdrH-jU"
      },
      "source": [
        "max()   function \n",
        "\n",
        "will return the larger of the two numbers passed"
      ]
    },
    {
      "cell_type": "code",
      "execution_count": 16,
      "metadata": {
        "colab": {
          "base_uri": "https://localhost:8080/"
        },
        "id": "RU9_FEykHw5H",
        "outputId": "28a99659-bf90-48f3-8552-73f2c616b246"
      },
      "outputs": [
        {
          "output_type": "stream",
          "name": "stdout",
          "text": [
            "6\n"
          ]
        }
      ],
      "source": [
        "print(max(4,6))"
      ]
    },
    {
      "cell_type": "markdown",
      "metadata": {
        "id": "mCO7jKg4INwd"
      },
      "source": [
        "min() function\n",
        "\n",
        "will return the smaller of the two numbers passed"
      ]
    },
    {
      "cell_type": "code",
      "execution_count": 17,
      "metadata": {
        "colab": {
          "base_uri": "https://localhost:8080/"
        },
        "id": "EjGJrttWIKnT",
        "outputId": "473f7061-2820-4e7d-ca2e-fe2e293ad0ad"
      },
      "outputs": [
        {
          "output_type": "stream",
          "name": "stdout",
          "text": [
            "4\n"
          ]
        }
      ],
      "source": [
        "print(min(4,6))"
      ]
    },
    {
      "cell_type": "markdown",
      "metadata": {
        "id": "0TO3UOdxIb7h"
      },
      "source": [
        "round()   function \n",
        "\n",
        "will round the number"
      ]
    },
    {
      "cell_type": "code",
      "execution_count": 18,
      "metadata": {
        "colab": {
          "base_uri": "https://localhost:8080/"
        },
        "id": "6pOIhkaQIVCP",
        "outputId": "e9652beb-2a80-4476-b182-10b65b97e68b"
      },
      "outputs": [
        {
          "output_type": "stream",
          "name": "stdout",
          "text": [
            "4\n"
          ]
        }
      ],
      "source": [
        "print(round(3.7))"
      ]
    },
    {
      "cell_type": "markdown",
      "metadata": {
        "id": "clwAAwvIItWz"
      },
      "source": [
        "## Import the math function "
      ]
    },
    {
      "cell_type": "code",
      "execution_count": null,
      "metadata": {
        "colab": {
          "base_uri": "https://localhost:8080/"
        },
        "id": "kWFE2cEkIkE-",
        "outputId": "9dc0a7d6-10ae-4cc4-a9d4-75ff07ffbcdb"
      },
      "outputs": [
        {
          "name": "stdout",
          "output_type": "stream",
          "text": [
            "3\n",
            "4\n",
            "6.0\n"
          ]
        }
      ],
      "source": [
        "from math import *\n",
        "print(floor(3.7))\n",
        "# floor()  function will get the lowest number possible by \n",
        "# removing the decimal place\n",
        "\n",
        "print(ceil(3.7))\n",
        "\n",
        "# oppposit of floor will give highest number posiible near that range\n",
        "\n",
        "print(sqrt(36))\n",
        "# will give square root"
      ]
    },
    {
      "cell_type": "markdown",
      "metadata": {
        "id": "lJrHyWAL-bwU"
      },
      "source": [
        "## LIST IN PYTHON "
      ]
    },
    {
      "cell_type": "code",
      "execution_count": null,
      "metadata": {
        "id": "GeuA8xq7JA2V"
      },
      "outputs": [],
      "source": [
        "friends=[\"ganu\", \"zandu\", \"lalu\"]"
      ]
    },
    {
      "cell_type": "code",
      "execution_count": null,
      "metadata": {
        "colab": {
          "base_uri": "https://localhost:8080/"
        },
        "id": "qEiQx9pf_C5W",
        "outputId": "d4ebba25-159b-4a8f-d830-cb605c0efbd6"
      },
      "outputs": [
        {
          "name": "stdout",
          "output_type": "stream",
          "text": [
            "['ganu', 'zandu', 'lalu']\n"
          ]
        }
      ],
      "source": [
        "print(friends)"
      ]
    },
    {
      "cell_type": "code",
      "execution_count": null,
      "metadata": {
        "colab": {
          "base_uri": "https://localhost:8080/"
        },
        "id": "bJeXQAsN_RMT",
        "outputId": "48eb4141-9c42-485d-902a-2ce2e1cce746"
      },
      "outputs": [
        {
          "name": "stdout",
          "output_type": "stream",
          "text": [
            "['lalu', 'zandu', 'ganu']\n"
          ]
        }
      ],
      "source": [
        "newl= friends[::-1]\n",
        "print(newl)\n",
        "# TO REVERSE THE LIST"
      ]
    },
    {
      "cell_type": "markdown",
      "metadata": {
        "id": "8nhkmc0uAALp"
      },
      "source": [
        "## LIST FUNCTIONS"
      ]
    },
    {
      "cell_type": "code",
      "execution_count": null,
      "metadata": {
        "id": "q6qbsIUN_p0w"
      },
      "outputs": [],
      "source": [
        "friends=[\"ganu\", \"zandu\",\"lalu\",\"kevin\",\"karen \",\"toby\"]\n",
        "nums=[4,5,6,7,8,9,3,23]"
      ]
    },
    {
      "cell_type": "markdown",
      "metadata": {
        "id": "Ke7OQ865A8Fa"
      },
      "source": [
        "EXTEND FUNCTION \n",
        "\n",
        "allow you to append a new list to end of first one\n"
      ]
    },
    {
      "cell_type": "code",
      "execution_count": null,
      "metadata": {
        "colab": {
          "base_uri": "https://localhost:8080/"
        },
        "id": "dXe50jexArze",
        "outputId": "8a4c7b16-52fb-4eea-eadb-5896d4de4413"
      },
      "outputs": [
        {
          "name": "stdout",
          "output_type": "stream",
          "text": [
            "['ganu', 'zandu', 'lalu', 'kevin', 'karen ', 'toby', 4, 5, 6, 7, 8, 9, 3, 23, 4, 5, 6, 7, 8, 9, 3, 23]\n"
          ]
        }
      ],
      "source": [
        "friends.extend(nums)\n",
        "print(friends)"
      ]
    },
    {
      "cell_type": "markdown",
      "metadata": {
        "id": "K5JAmGlEBWQx"
      },
      "source": [
        "Append\n",
        "\n",
        "to add elements to end of the list"
      ]
    },
    {
      "cell_type": "code",
      "execution_count": null,
      "metadata": {
        "colab": {
          "base_uri": "https://localhost:8080/"
        },
        "id": "a55u3YQzBL19",
        "outputId": "875002bd-dbfd-4588-c5aa-353e9f07969b"
      },
      "outputs": [
        {
          "name": "stdout",
          "output_type": "stream",
          "text": [
            "['ganu', 'zandu', 'lalu', 'kevin', 'karen ', 'toby', 4, 5, 6, 7, 8, 9, 3, 23, 4, 5, 6, 7, 8, 9, 3, 23, 'lodu', 'lodu', 'lodu', 'lodu']\n"
          ]
        }
      ],
      "source": [
        "friends.append(\"lodu\")\n",
        "print(friends)"
      ]
    },
    {
      "cell_type": "markdown",
      "metadata": {
        "id": "AEWWNAtMB_kM"
      },
      "source": [
        "insert(index, value)\n",
        "to add elements at certain index "
      ]
    },
    {
      "cell_type": "code",
      "execution_count": null,
      "metadata": {
        "colab": {
          "base_uri": "https://localhost:8080/"
        },
        "id": "ErCgSHVpBi-6",
        "outputId": "2c2b9cfc-ab62-4326-9034-14492c7219be"
      },
      "outputs": [
        {
          "name": "stdout",
          "output_type": "stream",
          "text": [
            "['ganu', 'kelly', 'zandu', 'lalu', 'kevin', 'karen ', 'toby', 4, 5, 6, 7, 8, 9, 3, 23, 4, 5, 6, 7, 8, 9, 3, 23, 'lodu', 'lodu', 'lodu', 'lodu']\n"
          ]
        }
      ],
      "source": [
        "friends.insert(1, \"kelly\")\n",
        "print(friends)"
      ]
    },
    {
      "cell_type": "code",
      "execution_count": null,
      "metadata": {
        "colab": {
          "background_save": true
        },
        "id": "YBKU4cDKCSRn",
        "outputId": "535f7dd7-a0e3-4819-8481-20b1f00c65e3"
      },
      "outputs": [
        {
          "name": "stdout",
          "output_type": "stream",
          "text": [
            "['ganu', 'kelly', 'zandu', 'lalu', 'kevin', 'karen ', 'toby', 4, 5, 6, 7, 8, 9, 3, 23, 4, 5, 6, 7, 8, 9, 3, 23, 'lodu', 'lodu']\n"
          ]
        }
      ],
      "source": [
        "friends.remove(\"lodu\")\n",
        "print(friends)"
      ]
    },
    {
      "cell_type": "code",
      "execution_count": null,
      "metadata": {
        "id": "gY_xeM27Cf5G"
      },
      "outputs": [],
      "source": [
        ""
      ]
    },
    {
      "cell_type": "markdown",
      "source": [
        "# **Python for data analysis**"
      ],
      "metadata": {
        "id": "vtLojJP8RLG3"
      }
    },
    {
      "cell_type": "code",
      "source": [
        "x=5\n",
        "y=0.54\n",
        "print(x)\n",
        "print(y)\n",
        "type(x)\n"
      ],
      "metadata": {
        "colab": {
          "base_uri": "https://localhost:8080/"
        },
        "id": "Fxn6wgVERa1y",
        "outputId": "06472cd0-e5f5-444e-cceb-19c0872b83e4"
      },
      "execution_count": 5,
      "outputs": [
        {
          "output_type": "stream",
          "name": "stdout",
          "text": [
            "5\n",
            "0.54\n"
          ]
        },
        {
          "output_type": "execute_result",
          "data": {
            "text/plain": [
              "int"
            ]
          },
          "metadata": {},
          "execution_count": 5
        }
      ]
    },
    {
      "cell_type": "code",
      "source": [
        "type(y)"
      ],
      "metadata": {
        "colab": {
          "base_uri": "https://localhost:8080/"
        },
        "id": "35hk1zFHRuIP",
        "outputId": "3c93dc50-c930-4e32-e1dc-9741751bf1fc"
      },
      "execution_count": 6,
      "outputs": [
        {
          "output_type": "execute_result",
          "data": {
            "text/plain": [
              "float"
            ]
          },
          "metadata": {},
          "execution_count": 6
        }
      ]
    },
    {
      "cell_type": "code",
      "source": [
        ""
      ],
      "metadata": {
        "id": "rbC4OClmR16A"
      },
      "execution_count": null,
      "outputs": []
    },
    {
      "cell_type": "markdown",
      "source": [
        "String = string is an alphanumeric data enclosed in parenthesis"
      ],
      "metadata": {
        "id": "5qCZ6ArcSH-N"
      }
    },
    {
      "cell_type": "code",
      "source": [
        "z=\"I am learning python\"\n",
        "y=\"this is \\nthe new string line\"\n",
        "x=\"this is \\tgoing tobe a new tab\""
      ],
      "metadata": {
        "id": "dkM2lEVBSPFq"
      },
      "execution_count": 9,
      "outputs": []
    },
    {
      "cell_type": "code",
      "source": [
        "print(z)\n",
        "print(y)\n",
        "print(x)"
      ],
      "metadata": {
        "colab": {
          "base_uri": "https://localhost:8080/"
        },
        "id": "ImmCvYduSUVH",
        "outputId": "cdc2bd2c-231b-43f6-9623-6169e5bdb189"
      },
      "execution_count": 10,
      "outputs": [
        {
          "output_type": "stream",
          "name": "stdout",
          "text": [
            "I am learning python\n",
            "this is \n",
            "the new string line\n",
            "this is \tgoing tobe a new tab\n"
          ]
        }
      ]
    },
    {
      "cell_type": "code",
      "source": [
        ""
      ],
      "metadata": {
        "id": "T8_Nt6G6SW3X"
      },
      "execution_count": null,
      "outputs": []
    },
    {
      "cell_type": "markdown",
      "source": [
        "python uses 0 based indexing"
      ],
      "metadata": {
        "id": "YI2-wManSytk"
      }
    },
    {
      "cell_type": "code",
      "source": [
        ""
      ],
      "metadata": {
        "id": "pQNtqnbrS1Zv"
      },
      "execution_count": null,
      "outputs": []
    },
    {
      "cell_type": "markdown",
      "source": [
        "## **LIST**\n",
        "Python does not have an Array type per say, but something called\n",
        "a List that more or less serves the same function"
      ],
      "metadata": {
        "id": "uTqs1QTjS9Xv"
      }
    },
    {
      "cell_type": "code",
      "source": [
        "a_list=[3,5,6,1,4,2,4,8,\"asds\"]"
      ],
      "metadata": {
        "id": "SlUlrB8MTCZk"
      },
      "execution_count": 16,
      "outputs": []
    },
    {
      "cell_type": "code",
      "source": [
        "# TO REVERSE THE LIST\n",
        "print(a_list[::-1])"
      ],
      "metadata": {
        "colab": {
          "base_uri": "https://localhost:8080/"
        },
        "id": "-wLR92pkTOzB",
        "outputId": "06e2d8c1-4640-4eb6-fae3-5052dd8ed8a7"
      },
      "execution_count": 17,
      "outputs": [
        {
          "output_type": "stream",
          "name": "stdout",
          "text": [
            "['asds', 8, 4, 2, 4, 1, 6, 5, 3]\n"
          ]
        }
      ]
    },
    {
      "cell_type": "code",
      "source": [
        "# TO PRINT LIST IN STEPS OF 1\n",
        "print(a_list[::1])"
      ],
      "metadata": {
        "colab": {
          "base_uri": "https://localhost:8080/"
        },
        "id": "y9crQ7dzTZVj",
        "outputId": "eecc49d4-5f12-454f-d837-a12d89ead8d9"
      },
      "execution_count": 18,
      "outputs": [
        {
          "output_type": "stream",
          "name": "stdout",
          "text": [
            "[3, 5, 6, 1, 4, 2, 4, 8, 'asds']\n"
          ]
        }
      ]
    },
    {
      "cell_type": "code",
      "source": [
        ""
      ],
      "metadata": {
        "id": "K-VUvwkzTmTC"
      },
      "execution_count": 18,
      "outputs": []
    },
    {
      "cell_type": "markdown",
      "source": [
        "## **TUPLES**\n",
        "1.   This is the same thing as a list but the elements\n",
        "inside cannot be changed\n",
        "2.   They can be sliced the same way lists are\n",
        "\n"
      ],
      "metadata": {
        "id": "bZAWxu1aTxXi"
      }
    },
    {
      "cell_type": "code",
      "source": [
        "a_tuple=(1,2,3,4,5,6,\"asds\")"
      ],
      "metadata": {
        "id": "J-K6wiKjT4nU"
      },
      "execution_count": 21,
      "outputs": []
    },
    {
      "cell_type": "code",
      "source": [
        "print(a_tuple)"
      ],
      "metadata": {
        "colab": {
          "base_uri": "https://localhost:8080/"
        },
        "id": "vg76e0cjULkC",
        "outputId": "15a008eb-71dc-45c3-8f80-9a084ee3ca07"
      },
      "execution_count": 22,
      "outputs": [
        {
          "output_type": "stream",
          "name": "stdout",
          "text": [
            "(1, 2, 3, 4, 5, 6, 'asds')\n"
          ]
        }
      ]
    },
    {
      "cell_type": "code",
      "source": [
        ""
      ],
      "metadata": {
        "id": "8PD5pTgKUOD0"
      },
      "execution_count": null,
      "outputs": []
    },
    {
      "cell_type": "markdown",
      "source": [
        "## **DICTIONARY**\n",
        "\n",
        "\n",
        "1.   These are the key value pairs and can be used for dealing with tables\n",
        "\n"
      ],
      "metadata": {
        "id": "bEJCxqMzUfQp"
      }
    },
    {
      "cell_type": "code",
      "source": [
        "a_dict={\"a\":\"atul\",\"b\":\"subhash\",\"c\":\"narwade\"}"
      ],
      "metadata": {
        "id": "X2j25L6FUueC"
      },
      "execution_count": 23,
      "outputs": []
    },
    {
      "cell_type": "code",
      "source": [
        "# TO PRINT ALL THE VALUES\n",
        "print(a_dict)"
      ],
      "metadata": {
        "colab": {
          "base_uri": "https://localhost:8080/"
        },
        "id": "VYn6uRqFVTAC",
        "outputId": "9d66e80d-98a8-42e5-949a-8792b9a8c385"
      },
      "execution_count": 24,
      "outputs": [
        {
          "output_type": "stream",
          "name": "stdout",
          "text": [
            "{'a': 'atul', 'b': 'subhash', 'c': 'narwade'}\n"
          ]
        }
      ]
    },
    {
      "cell_type": "code",
      "source": [
        "# To get value with certain key\n",
        "a_dict.get(\"b\")"
      ],
      "metadata": {
        "colab": {
          "base_uri": "https://localhost:8080/",
          "height": 35
        },
        "id": "XUH3FDnyVY5_",
        "outputId": "cd76d629-6704-4edd-d36e-523d812cf898"
      },
      "execution_count": 25,
      "outputs": [
        {
          "output_type": "execute_result",
          "data": {
            "text/plain": [
              "'subhash'"
            ],
            "application/vnd.google.colaboratory.intrinsic+json": {
              "type": "string"
            }
          },
          "metadata": {},
          "execution_count": 25
        }
      ]
    },
    {
      "cell_type": "code",
      "source": [
        "# ANOTHER WAYS OF FINDING KEYS\n",
        "a_dict[\"a\"]"
      ],
      "metadata": {
        "colab": {
          "base_uri": "https://localhost:8080/",
          "height": 35
        },
        "id": "KUykUKrJVo5S",
        "outputId": "a36f832a-5601-44e1-9b25-da74f232ac3a"
      },
      "execution_count": 27,
      "outputs": [
        {
          "output_type": "execute_result",
          "data": {
            "text/plain": [
              "'atul'"
            ],
            "application/vnd.google.colaboratory.intrinsic+json": {
              "type": "string"
            }
          },
          "metadata": {},
          "execution_count": 27
        }
      ]
    },
    {
      "cell_type": "code",
      "source": [
        ""
      ],
      "metadata": {
        "id": "2ul4hb0DVu9E"
      },
      "execution_count": null,
      "outputs": []
    },
    {
      "cell_type": "markdown",
      "source": [
        "# SET\n",
        "A set is unordered, unchangable way to store multiple variables without duplicates"
      ],
      "metadata": {
        "id": "nzB54WYVV8zt"
      }
    },
    {
      "cell_type": "code",
      "source": [
        "a_set={\"values\",\"first\",\"second\"}"
      ],
      "metadata": {
        "id": "GDk6IhvIWMLH"
      },
      "execution_count": 28,
      "outputs": []
    },
    {
      "cell_type": "code",
      "source": [
        "print(a_set)"
      ],
      "metadata": {
        "colab": {
          "base_uri": "https://localhost:8080/"
        },
        "id": "yWHf-ZapWVkt",
        "outputId": "2c59319e-a990-4afa-f666-672d5e0c7c8a"
      },
      "execution_count": 29,
      "outputs": [
        {
          "output_type": "stream",
          "name": "stdout",
          "text": [
            "{'first', 'second', 'values'}\n"
          ]
        }
      ]
    },
    {
      "cell_type": "code",
      "source": [
        ""
      ],
      "metadata": {
        "id": "9FmYQxQeWXRr"
      },
      "execution_count": null,
      "outputs": []
    },
    {
      "cell_type": "markdown",
      "source": [
        "\n",
        "## Non-primitive data structures\n",
        "1.   **List** =>  a_list=[3,5,6,1,4,2,4,8,\"asds\"]\n",
        "2.   **Tuples** =>  a_tuple=(1,2,3,4,5,6,\"asds\")\n",
        "3.   **Dictionary** =>  a_dict={\"a\":\"atul\",\"b\":\"subhash\",\"c\":\"narwade\"}\n",
        "4.   SET =>    a_set={\"values\",\"first\",\"second\"}\n",
        "\n"
      ],
      "metadata": {
        "id": "FPtDqbspWe1S"
      }
    },
    {
      "cell_type": "code",
      "source": [
        ""
      ],
      "metadata": {
        "id": "DPpVDNtGXIUR"
      },
      "execution_count": null,
      "outputs": []
    },
    {
      "cell_type": "markdown",
      "source": [
        ""
      ],
      "metadata": {
        "id": "QqO15kzkXUMa"
      }
    }
  ],
  "metadata": {
    "colab": {
      "name": "python basic.ipynb",
      "provenance": [],
      "authorship_tag": "ABX9TyMDFkn1I8yBNgz/GCZjJW2P",
      "include_colab_link": true
    },
    "kernelspec": {
      "display_name": "Python 3",
      "name": "python3"
    },
    "language_info": {
      "name": "python"
    }
  },
  "nbformat": 4,
  "nbformat_minor": 0
}